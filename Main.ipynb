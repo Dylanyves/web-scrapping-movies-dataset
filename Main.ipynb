{
 "cells": [
  {
   "cell_type": "code",
   "execution_count": 1,
   "id": "0a751e43",
   "metadata": {},
   "outputs": [],
   "source": [
    "import requests\n",
    "from bs4 import BeautifulSoup as bs\n",
    "import re\n",
    "import pandas as pd\n",
    "import numpy as np\n",
    "import json"
   ]
  },
  {
   "cell_type": "markdown",
   "id": "3d495615",
   "metadata": {},
   "source": [
    "### Get all movie links"
   ]
  },
  {
   "cell_type": "code",
   "execution_count": 2,
   "id": "5f8c2a80",
   "metadata": {},
   "outputs": [],
   "source": [
    "class Links:\n",
    "    def __init__(self, link):\n",
    "#       Web scrapping initial setups\n",
    "        self.link = requests.get(link)\n",
    "        self.soup = bs(self.link.content)\n",
    "        \n",
    "    def get_main_links(self):\n",
    "        ul = self.soup.find_all('ul')[1]\n",
    "        a = ul.find_all('a')\n",
    "\n",
    "        links = list()\n",
    "        years = ['2000', '2010']\n",
    "\n",
    "        for item in a:\n",
    "            for year in years:\n",
    "                if year in item.get('href'):\n",
    "                    links.append(item.get('href'))\n",
    "        \n",
    "        return links\n",
    "                    \n",
    "          \n",
    "    def get_movie_links(self):\n",
    "        main_links = self.get_main_links()\n",
    "        movies_links = list()\n",
    "\n",
    "        for link in main_links:\n",
    "            req = requests.get(f\"https://en.wikipedia.org/{link}\")\n",
    "            content = bs(req.content)\n",
    "\n",
    "            table = content.find('tbody')\n",
    "            i = table.find_all('i')\n",
    "            \n",
    "            for item in i:\n",
    "                a = item.find('a')\n",
    "                if a != None:\n",
    "                    movies_links.append(a.get('href'))\n",
    "                else:\n",
    "                    continue\n",
    "            \n",
    "        return movies_links"
   ]
  },
  {
   "cell_type": "code",
   "execution_count": 3,
   "id": "c98d35ce",
   "metadata": {},
   "outputs": [],
   "source": [
    "links = Links(\"https://en.wikipedia.org/wiki/Lists_of_Lionsgate_films\")\n",
    "all_links = links.get_movie_links()"
   ]
  },
  {
   "cell_type": "markdown",
   "id": "0d6011fc",
   "metadata": {},
   "source": [
    "### Get all the data and write a json file"
   ]
  },
  {
   "cell_type": "code",
   "execution_count": 252,
   "id": "72273bc7",
   "metadata": {},
   "outputs": [],
   "source": [
    "class Data:\n",
    "    def __init__(self, urls):\n",
    "        self.urls = urls\n",
    "        self.base_path = \"https://en.wikipedia.org/\"\n",
    "        \n",
    "    def remove_tags(self, url):\n",
    "        for tag in url.find_all('sup'):\n",
    "            tag.decompose()\n",
    "        \n",
    "    def get_text(self, val):\n",
    "        li = val.find_all('li')\n",
    "        if li:\n",
    "            val_context = [i.get_text(' ', strip=True).replace(\"\\xa0\", ' ') for i in li]\n",
    "            return val_context\n",
    "        else:\n",
    "            val_context = val.get_text(' ', strip=True).replace('\\xa0', ' ')\n",
    "            return val_context\n",
    "        \n",
    "    def get_data(self): \n",
    "        movie_list = {'movie_info':[]}\n",
    "        \n",
    "        for url in self.urls:\n",
    "            req = requests.get(self.base_path + url)\n",
    "            content = bs(req.content)\n",
    "            \n",
    "            self.remove_tags(self.base_path + url)\n",
    "            \n",
    "            data = dict()\n",
    "            keys = content.select('table.infobox.vevent tbody tr th')\n",
    "            for index, key in enumerate(keys):\n",
    "                if index == 0:\n",
    "                    data['Title'] = key.get_text()\n",
    "                else:\n",
    "                    val = key.next_sibling\n",
    "                    if val != None:\n",
    "                        val_context = self.get_text(val)\n",
    "                        data[key.get_text(\" \", strip=True)] = val_context\n",
    "                        \n",
    "            movie_list['movie_info'].append(data)\n",
    "        return movie_list\n",
    "            \n",
    "    \n",
    "    def write_json(self):\n",
    "        movie_list = self.get_data()\n",
    "        \n",
    "        with open('lionsgate-movie.json', 'w', encoding='utf-8') as f:\n",
    "            json.dump(movie_list, f, ensure_ascii=False, indent=4)  "
   ]
  },
  {
   "cell_type": "code",
   "execution_count": 253,
   "id": "3b1fea0b",
   "metadata": {},
   "outputs": [
    {
     "ename": "AttributeError",
     "evalue": "'str' object has no attribute 'find_all'",
     "output_type": "error",
     "traceback": [
      "\u001b[1;31m-----------------------------------------------------------------\u001b[0m",
      "\u001b[1;31mAttributeError\u001b[0m                  Traceback (most recent call last)",
      "\u001b[1;32m~\\AppData\\Local\\Temp/ipykernel_3504/4183186208.py\u001b[0m in \u001b[0;36m<module>\u001b[1;34m\u001b[0m\n\u001b[0;32m      1\u001b[0m \u001b[0mdata\u001b[0m \u001b[1;33m=\u001b[0m \u001b[0mData\u001b[0m\u001b[1;33m(\u001b[0m\u001b[0mall_links\u001b[0m\u001b[1;33m)\u001b[0m\u001b[1;33m\u001b[0m\u001b[1;33m\u001b[0m\u001b[0m\n\u001b[1;32m----> 2\u001b[1;33m \u001b[0mdata\u001b[0m\u001b[1;33m.\u001b[0m\u001b[0mwrite_json\u001b[0m\u001b[1;33m(\u001b[0m\u001b[1;33m)\u001b[0m\u001b[1;33m\u001b[0m\u001b[1;33m\u001b[0m\u001b[0m\n\u001b[0m",
      "\u001b[1;32m~\\AppData\\Local\\Temp/ipykernel_3504/879928198.py\u001b[0m in \u001b[0;36mwrite_json\u001b[1;34m(self)\u001b[0m\n\u001b[0;32m     42\u001b[0m \u001b[1;33m\u001b[0m\u001b[0m\n\u001b[0;32m     43\u001b[0m     \u001b[1;32mdef\u001b[0m \u001b[0mwrite_json\u001b[0m\u001b[1;33m(\u001b[0m\u001b[0mself\u001b[0m\u001b[1;33m)\u001b[0m\u001b[1;33m:\u001b[0m\u001b[1;33m\u001b[0m\u001b[1;33m\u001b[0m\u001b[0m\n\u001b[1;32m---> 44\u001b[1;33m         \u001b[0mmovie_list\u001b[0m \u001b[1;33m=\u001b[0m \u001b[0mself\u001b[0m\u001b[1;33m.\u001b[0m\u001b[0mget_data\u001b[0m\u001b[1;33m(\u001b[0m\u001b[1;33m)\u001b[0m\u001b[1;33m\u001b[0m\u001b[1;33m\u001b[0m\u001b[0m\n\u001b[0m\u001b[0;32m     45\u001b[0m \u001b[1;33m\u001b[0m\u001b[0m\n\u001b[0;32m     46\u001b[0m         \u001b[1;32mwith\u001b[0m \u001b[0mopen\u001b[0m\u001b[1;33m(\u001b[0m\u001b[1;34m'lionsgate-movie.json'\u001b[0m\u001b[1;33m,\u001b[0m \u001b[1;34m'w'\u001b[0m\u001b[1;33m,\u001b[0m \u001b[0mencoding\u001b[0m\u001b[1;33m=\u001b[0m\u001b[1;34m'utf-8'\u001b[0m\u001b[1;33m)\u001b[0m \u001b[1;32mas\u001b[0m \u001b[0mf\u001b[0m\u001b[1;33m:\u001b[0m\u001b[1;33m\u001b[0m\u001b[1;33m\u001b[0m\u001b[0m\n",
      "\u001b[1;32m~\\AppData\\Local\\Temp/ipykernel_3504/879928198.py\u001b[0m in \u001b[0;36mget_data\u001b[1;34m(self)\u001b[0m\n\u001b[0;32m     24\u001b[0m             \u001b[0mcontent\u001b[0m \u001b[1;33m=\u001b[0m \u001b[0mbs\u001b[0m\u001b[1;33m(\u001b[0m\u001b[0mreq\u001b[0m\u001b[1;33m.\u001b[0m\u001b[0mcontent\u001b[0m\u001b[1;33m)\u001b[0m\u001b[1;33m\u001b[0m\u001b[1;33m\u001b[0m\u001b[0m\n\u001b[0;32m     25\u001b[0m \u001b[1;33m\u001b[0m\u001b[0m\n\u001b[1;32m---> 26\u001b[1;33m             \u001b[0mself\u001b[0m\u001b[1;33m.\u001b[0m\u001b[0mremove_tags\u001b[0m\u001b[1;33m(\u001b[0m\u001b[0mself\u001b[0m\u001b[1;33m.\u001b[0m\u001b[0mbase_path\u001b[0m \u001b[1;33m+\u001b[0m \u001b[0murl\u001b[0m\u001b[1;33m)\u001b[0m\u001b[1;33m\u001b[0m\u001b[1;33m\u001b[0m\u001b[0m\n\u001b[0m\u001b[0;32m     27\u001b[0m \u001b[1;33m\u001b[0m\u001b[0m\n\u001b[0;32m     28\u001b[0m             \u001b[0mdata\u001b[0m \u001b[1;33m=\u001b[0m \u001b[0mdict\u001b[0m\u001b[1;33m(\u001b[0m\u001b[1;33m)\u001b[0m\u001b[1;33m\u001b[0m\u001b[1;33m\u001b[0m\u001b[0m\n",
      "\u001b[1;32m~\\AppData\\Local\\Temp/ipykernel_3504/879928198.py\u001b[0m in \u001b[0;36mremove_tags\u001b[1;34m(self, url)\u001b[0m\n\u001b[0;32m      5\u001b[0m \u001b[1;33m\u001b[0m\u001b[0m\n\u001b[0;32m      6\u001b[0m     \u001b[1;32mdef\u001b[0m \u001b[0mremove_tags\u001b[0m\u001b[1;33m(\u001b[0m\u001b[0mself\u001b[0m\u001b[1;33m,\u001b[0m \u001b[0murl\u001b[0m\u001b[1;33m)\u001b[0m\u001b[1;33m:\u001b[0m\u001b[1;33m\u001b[0m\u001b[1;33m\u001b[0m\u001b[0m\n\u001b[1;32m----> 7\u001b[1;33m         \u001b[1;32mfor\u001b[0m \u001b[0mtag\u001b[0m \u001b[1;32min\u001b[0m \u001b[0murl\u001b[0m\u001b[1;33m.\u001b[0m\u001b[0mfind_all\u001b[0m\u001b[1;33m(\u001b[0m\u001b[1;34m'sup'\u001b[0m\u001b[1;33m)\u001b[0m\u001b[1;33m:\u001b[0m\u001b[1;33m\u001b[0m\u001b[1;33m\u001b[0m\u001b[0m\n\u001b[0m\u001b[0;32m      8\u001b[0m             \u001b[0mtag\u001b[0m\u001b[1;33m.\u001b[0m\u001b[0mdecompose\u001b[0m\u001b[1;33m(\u001b[0m\u001b[1;33m)\u001b[0m\u001b[1;33m\u001b[0m\u001b[1;33m\u001b[0m\u001b[0m\n\u001b[0;32m      9\u001b[0m \u001b[1;33m\u001b[0m\u001b[0m\n",
      "\u001b[1;31mAttributeError\u001b[0m: 'str' object has no attribute 'find_all'"
     ]
    }
   ],
   "source": [
    "data = Data(all_links)\n",
    "data.write_json()"
   ]
  },
  {
   "cell_type": "markdown",
   "id": "67ab26d9",
   "metadata": {},
   "source": [
    "### Load json file"
   ]
  },
  {
   "cell_type": "code",
   "execution_count": 245,
   "id": "4d8002c8",
   "metadata": {},
   "outputs": [],
   "source": [
    " class Load:\n",
    "    def __init__(self, file):\n",
    "        self.file = file\n",
    "        \n",
    "    def load_data(self):\n",
    "        with open(self.file, encoding='utf-8') as f:\n",
    "            return json.load(f)"
   ]
  },
  {
   "cell_type": "code",
   "execution_count": 246,
   "id": "c620ce27",
   "metadata": {},
   "outputs": [],
   "source": [
    "load = Load('lionsgate-movie.json')\n",
    "movie_info = load.load_data()"
   ]
  },
  {
   "cell_type": "markdown",
   "id": "35d90809",
   "metadata": {},
   "source": [
    "### Data cleanup\n",
    "- Clear references [0], [2]\n",
    "- Convert running time into an integer\n",
    "- Convert datetime into python datetime object\n",
    "- Split up long strings into a list\n",
    "- Convert money into numbers"
   ]
  },
  {
   "cell_type": "code",
   "execution_count": null,
   "id": "430e52b2",
   "metadata": {},
   "outputs": [],
   "source": []
  }
 ],
 "metadata": {
  "kernelspec": {
   "display_name": "Python 3 (ipykernel)",
   "language": "python",
   "name": "python3"
  },
  "language_info": {
   "codemirror_mode": {
    "name": "ipython",
    "version": 3
   },
   "file_extension": ".py",
   "mimetype": "text/x-python",
   "name": "python",
   "nbconvert_exporter": "python",
   "pygments_lexer": "ipython3",
   "version": "3.9.7"
  }
 },
 "nbformat": 4,
 "nbformat_minor": 5
}
