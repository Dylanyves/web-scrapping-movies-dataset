{
 "cells": [
  {
   "cell_type": "code",
   "execution_count": 1,
   "id": "0a751e43",
   "metadata": {},
   "outputs": [],
   "source": [
    "import requests\n",
    "from bs4 import BeautifulSoup as bs\n",
    "import re\n",
    "import pandas as pd\n",
    "import numpy as np\n",
    "import json"
   ]
  },
  {
   "cell_type": "code",
   "execution_count": 2,
   "id": "5f8c2a80",
   "metadata": {},
   "outputs": [],
   "source": [
    "class Links:\n",
    "    def __init__(self, link):\n",
    "#       Web scrapping initial setups\n",
    "        self.link = requests.get(link)\n",
    "        self.soup = bs(self.link.content)\n",
    "        \n",
    "    def get_main_links(self):\n",
    "        ul = self.soup.find_all('ul')[1]\n",
    "        a = ul.find_all('a')\n",
    "\n",
    "        links = list()\n",
    "        years = ['2000', '2010']\n",
    "\n",
    "        for item in a:\n",
    "            for year in years:\n",
    "                if year in item.get('href'):\n",
    "                    links.append(item.get('href'))\n",
    "        \n",
    "        return links\n",
    "                    \n",
    "          \n",
    "    def get_movie_links(self):\n",
    "        main_links = self.get_main_links()\n",
    "        movies_links = list()\n",
    "\n",
    "        for link in main_links:\n",
    "            req = requests.get(f\"https://en.wikipedia.org/{link}\")\n",
    "            content = bs(req.content)\n",
    "\n",
    "            table = content.find('tbody')\n",
    "            i = table.find_all('i')\n",
    "            \n",
    "            for item in i:\n",
    "                a = item.find('a')\n",
    "                if a != None:\n",
    "                    movies_links.append(a.get('href'))\n",
    "                else:\n",
    "                    continue\n",
    "            \n",
    "        return movies_links"
   ]
  },
  {
   "cell_type": "code",
   "execution_count": 3,
   "id": "c98d35ce",
   "metadata": {},
   "outputs": [],
   "source": [
    "links = Links(\"https://en.wikipedia.org/wiki/Lists_of_Lionsgate_films\")\n",
    "all_links = links.get_movie_links()"
   ]
  },
  {
   "cell_type": "markdown",
   "id": "0d6011fc",
   "metadata": {},
   "source": [
    "### Load data to json file"
   ]
  },
  {
   "cell_type": "code",
   "execution_count": 5,
   "id": "72273bc7",
   "metadata": {},
   "outputs": [],
   "source": [
    "class Load:\n",
    "    def __init__(self, urls):\n",
    "        self.urls = urls\n",
    "        self.base_path = \"https://en.wikipedia.org/\"\n",
    "        \n",
    "    def get_data(self):\n",
    "        for url in self.urls:\n",
    "            req = requests.get(self.base_path + url)\n",
    "            content = bs(req.content)\n",
    "\n",
    "            keys = content.select('table.infobox.vevent tbody tr th')\n",
    "            values = content.select('table.infobox.vevent tbody tr td')\n",
    "            data = dict()\n",
    "            for key, value in zip(keys, values):\n",
    "                print(f'{key.get_text(\" \", strip=True)}')\n",
    "            \n",
    "#             return values"
   ]
  },
  {
   "cell_type": "code",
   "execution_count": 6,
   "id": "3b1fea0b",
   "metadata": {},
   "outputs": [
    {
     "name": "stdout",
     "output_type": "stream",
     "text": [
      "American Psycho\n",
      "Directed by\n",
      "Screenplay by\n",
      "Based on\n",
      "Produced by\n",
      "Starring\n",
      "Cinematography\n",
      "Edited by\n",
      "Music by\n",
      "Production companies\n",
      "Distributed by\n",
      "Release date\n",
      "Running time\n",
      "Countries\n",
      "Language\n",
      "Budget\n",
      "Box office\n",
      "The Big Kahuna\n",
      "Directed by\n",
      "Screenplay by\n",
      "Based on\n",
      "Produced by\n",
      "Starring\n",
      "Cinematography\n",
      "Edited by\n",
      "Music by\n",
      "Production companies\n",
      "Distributed by\n",
      "Release date\n",
      "Running time\n",
      "Country\n",
      "Language\n",
      "Budget\n",
      "Box office\n"
     ]
    }
   ],
   "source": [
    "load = Load(all_links[:2])\n",
    "load.get_data()"
   ]
  }
 ],
 "metadata": {
  "kernelspec": {
   "display_name": "Python 3 (ipykernel)",
   "language": "python",
   "name": "python3"
  },
  "language_info": {
   "codemirror_mode": {
    "name": "ipython",
    "version": 3
   },
   "file_extension": ".py",
   "mimetype": "text/x-python",
   "name": "python",
   "nbconvert_exporter": "python",
   "pygments_lexer": "ipython3",
   "version": "3.9.7"
  }
 },
 "nbformat": 4,
 "nbformat_minor": 5
}
