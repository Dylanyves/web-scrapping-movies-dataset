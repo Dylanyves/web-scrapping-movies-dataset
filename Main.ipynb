{
 "cells": [
  {
   "cell_type": "code",
   "execution_count": 1,
   "id": "0a751e43",
   "metadata": {},
   "outputs": [],
   "source": [
    "import requests\n",
    "from bs4 import BeautifulSoup as bs\n",
    "import re\n",
    "import pandas as pd\n",
    "import numpy as np\n",
    "import json"
   ]
  },
  {
   "cell_type": "markdown",
   "id": "874a6537",
   "metadata": {},
   "source": [
    "### Get all movie links\n",
    "- Get web link for movies from 2000 - 2009, and 2010 - 2019\n",
    "- Get each movie link"
   ]
  },
  {
   "cell_type": "code",
   "execution_count": 2,
   "id": "5f8c2a80",
   "metadata": {},
   "outputs": [],
   "source": [
    "class Links:\n",
    "    def __init__(self, link):\n",
    "#       Web scrapping initial setups\n",
    "        self.link = requests.get(link)\n",
    "        self.soup = bs(self.link.content)\n",
    "        \n",
    "    def get_main_links(self):\n",
    "        ul = self.soup.find_all('ul')[1]\n",
    "        a = ul.find_all('a')\n",
    "\n",
    "        links = list()\n",
    "        years = ['2000', '2010']\n",
    "\n",
    "        for item in a:\n",
    "            for year in years:\n",
    "                if year in item.get('href'):\n",
    "                    links.append(item.get('href'))\n",
    "        \n",
    "        return links\n",
    "                    \n",
    "          \n",
    "    def get_movie_links(self):\n",
    "        main_links = self.get_main_links()\n",
    "        movies_links = list()\n",
    "\n",
    "        for link in main_links:\n",
    "            req = requests.get(f\"https://en.wikipedia.org/{link}\")\n",
    "            content = bs(req.content)\n",
    "\n",
    "            table = content.find('tbody')\n",
    "            i = table.find_all('i')\n",
    "            \n",
    "            for item in i:\n",
    "                a = item.find('a')\n",
    "                if a != None:\n",
    "                    movies_links.append(a.get('href'))\n",
    "                else:\n",
    "                    continue\n",
    "            \n",
    "        return movies_links"
   ]
  },
  {
   "cell_type": "code",
   "execution_count": 3,
   "id": "c98d35ce",
   "metadata": {},
   "outputs": [],
   "source": [
    "links = Links(\"https://en.wikipedia.org/wiki/Lists_of_Lionsgate_films\")\n",
    "all_links = links.get_movie_links()"
   ]
  },
  {
   "cell_type": "markdown",
   "id": "0d6011fc",
   "metadata": {},
   "source": [
    "### Get movie info\n",
    "- Get each movie information and store it into a dictionary\n",
    "- Remove tags"
   ]
  },
  {
   "cell_type": "code",
   "execution_count": 460,
   "id": "72273bc7",
   "metadata": {},
   "outputs": [],
   "source": [
    "class Data:\n",
    "    def __init__(self, urls):\n",
    "        self.urls = urls\n",
    "        self.base_path = \"https://en.wikipedia.org/\"\n",
    "        \n",
    "    def remove_tags(self, content):\n",
    "        for tag1, tag2 in zip(content.find_all('sup', attrs={'class':'reference'}), content.find_all('span')):\n",
    "            tag1.decompose()\n",
    "            tag2.decompose()\n",
    "        \n",
    "    def get_text(self, val):\n",
    "        li = val.find_all('li')\n",
    "        if li:\n",
    "            val_context = [i.get_text(' ', strip=True).replace(\"\\xa0\", ' ') for i in li]\n",
    "            return val_context\n",
    "        elif val.find('br'):\n",
    "            val_context = [text for text in val.stripped_strings]\n",
    "            return val_context\n",
    "        else:\n",
    "            val_context = val.get_text(' ', strip=True).replace('\\xa0', ' ')\n",
    "            return val_context\n",
    "        \n",
    "    def get_data(self): \n",
    "        movie_list = {'movie_info':[]}\n",
    "        \n",
    "        for url in self.urls:\n",
    "            req = requests.get(self.base_path + url)\n",
    "            content = bs(req.content)\n",
    "            \n",
    "            self.remove_tags(content)\n",
    "            \n",
    "            data = dict()\n",
    "            keys = content.select('table.infobox.vevent tbody tr th')\n",
    "            for index, key in enumerate(keys):\n",
    "                if index == 0:\n",
    "                    data['Title'] = key.get_text()\n",
    "                else:\n",
    "                    val = key.next_sibling\n",
    "                    if val != None:\n",
    "                        val_context = self.get_text(val)\n",
    "                        data[key.get_text(\" \", strip=True)] = val_context\n",
    "                        \n",
    "            movie_list['movie_info'].append(data)\n",
    "        return movie_list"
   ]
  },
  {
   "cell_type": "code",
   "execution_count": 463,
   "id": "3b1fea0b",
   "metadata": {},
   "outputs": [],
   "source": [
    "data = Data(all_links)\n",
    "movie_data = data.get_data()"
   ]
  },
  {
   "cell_type": "markdown",
   "id": "d01d87a5",
   "metadata": {},
   "source": [
    "### Clean data"
   ]
  },
  {
   "cell_type": "markdown",
   "id": "c14b2e5b",
   "metadata": {},
   "source": [
    "- Clear references [0], [2]\n",
    "- Convert running time into an integer\n",
    "- Convert datetime into python datetime object\n",
    "- Split up long strings into a list\n",
    "- Convert money into numbers"
   ]
  },
  {
   "cell_type": "code",
   "execution_count": 425,
   "id": "fa7e32f9",
   "metadata": {},
   "outputs": [],
   "source": [
    "class Clean:\n",
    "    def __init__(self, movie_info):\n",
    "        self.movie_info = movie_info\n",
    "        \n",
    "    def convert_duration(self):\n",
    "        for index, item in enumerate(self.movie_info['movie_info']):\n",
    "            try:\n",
    "                if isinstance(item['Running time'], str):\n",
    "                    item['Running time'] = int(item['Running time'].split(' ')[0])\n",
    "#                     print(item['Running time'])\n",
    "\n",
    "                else:\n",
    "                    avg_duration = int(np.mean([int(dur.split(' ')[0]) for dur in item['Running time']]))\n",
    "                    item['Running time'] = avg_duration\n",
    "#                     print(item['Running time'])\n",
    "            except:\n",
    "#                 item['Running time'] = None\n",
    "#                 print(index, 'errorrrrrrrrrrrrrrrrrrrrrrrrrrrrrrrrrrrrrrrrrrrrrrrrrrrrrrrrrrrr')\n",
    "                pass\n",
    "                    \n",
    "    \n",
    "    def convert_datetime(self):\n",
    "        return\n",
    "    \n",
    "    def convert_money(self):\n",
    "        return        "
   ]
  },
  {
   "cell_type": "code",
   "execution_count": 426,
   "id": "8acfc8fe",
   "metadata": {},
   "outputs": [],
   "source": [
    "clean = Clean(movie_data)\n",
    "clean.convert_duration()"
   ]
  },
  {
   "cell_type": "markdown",
   "id": "0a869d4a",
   "metadata": {},
   "source": [
    "### Write json file"
   ]
  },
  {
   "cell_type": "code",
   "execution_count": 473,
   "id": "a3b91158",
   "metadata": {},
   "outputs": [],
   "source": [
    "class Write:\n",
    "    def __init__(self, movie_info):\n",
    "        self.movie_info = movie_info\n",
    "    \n",
    "    def write_json(self):        \n",
    "        with open('lionsgate-movie.json', 'w', encoding='utf-8') as f:\n",
    "            json.dump(self.movie_info, f, ensure_ascii=False, indent=4)  "
   ]
  },
  {
   "cell_type": "code",
   "execution_count": 474,
   "id": "9fcbd345",
   "metadata": {},
   "outputs": [],
   "source": [
    "write = Write(movie_data)\n",
    "write.write_json()"
   ]
  },
  {
   "cell_type": "markdown",
   "id": "e159db52",
   "metadata": {},
   "source": [
    "### Load json file"
   ]
  },
  {
   "cell_type": "code",
   "execution_count": 256,
   "id": "fae77a7b",
   "metadata": {},
   "outputs": [],
   "source": [
    " class Load:\n",
    "    def __init__(self, file):\n",
    "        self.file = file\n",
    "        \n",
    "    def load_data(self):\n",
    "        with open(self.file, encoding='utf-8') as f:\n",
    "            return json.load(f)"
   ]
  },
  {
   "cell_type": "code",
   "execution_count": 257,
   "id": "7462832c",
   "metadata": {},
   "outputs": [],
   "source": [
    "load = Load('lionsgate-movie.json')\n",
    "movie_info = load.load_data()"
   ]
  }
 ],
 "metadata": {
  "kernelspec": {
   "display_name": "Python 3 (ipykernel)",
   "language": "python",
   "name": "python3"
  },
  "language_info": {
   "codemirror_mode": {
    "name": "ipython",
    "version": 3
   },
   "file_extension": ".py",
   "mimetype": "text/x-python",
   "name": "python",
   "nbconvert_exporter": "python",
   "pygments_lexer": "ipython3",
   "version": "3.9.7"
  }
 },
 "nbformat": 4,
 "nbformat_minor": 5
}
