{
 "cells": [
  {
   "cell_type": "code",
   "execution_count": 577,
   "id": "0a751e43",
   "metadata": {},
   "outputs": [],
   "source": [
    "import requests\n",
    "from bs4 import BeautifulSoup as bs\n",
    "import re\n",
    "import pandas as pd\n",
    "import numpy as np\n",
    "import json\n",
    "import random\n",
    "from datetime import datetime"
   ]
  },
  {
   "cell_type": "markdown",
   "id": "874a6537",
   "metadata": {},
   "source": [
    "### Get all movie links\n",
    "- Get web link for movies from 2000 - 2009, and 2010 - 2019\n",
    "- Get each movie link"
   ]
  },
  {
   "cell_type": "code",
   "execution_count": 2,
   "id": "5f8c2a80",
   "metadata": {},
   "outputs": [],
   "source": [
    "class Links:\n",
    "    def __init__(self, link):\n",
    "#       Web scrapping initial setups\n",
    "        self.link = requests.get(link)\n",
    "        self.soup = bs(self.link.content)\n",
    "        \n",
    "    def get_main_links(self):\n",
    "        ul = self.soup.find_all('ul')[1]\n",
    "        a = ul.find_all('a')\n",
    "\n",
    "        links = list()\n",
    "        years = ['2000', '2010']\n",
    "\n",
    "        for item in a:\n",
    "            for year in years:\n",
    "                if year in item.get('href'):\n",
    "                    links.append(item.get('href'))\n",
    "        \n",
    "        return links\n",
    "                    \n",
    "          \n",
    "    def get_movie_links(self):\n",
    "        main_links = self.get_main_links()\n",
    "        movies_links = list()\n",
    "\n",
    "        for link in main_links:\n",
    "            req = requests.get(f\"https://en.wikipedia.org/{link}\")\n",
    "            content = bs(req.content)\n",
    "\n",
    "            table = content.find('tbody')\n",
    "            i = table.find_all('i')\n",
    "            \n",
    "            for item in i:\n",
    "                a = item.find('a')\n",
    "                if a != None:\n",
    "                    movies_links.append(a.get('href'))\n",
    "                else:\n",
    "                    continue\n",
    "            \n",
    "        return movies_links"
   ]
  },
  {
   "cell_type": "code",
   "execution_count": 3,
   "id": "c98d35ce",
   "metadata": {},
   "outputs": [],
   "source": [
    "links = Links(\"https://en.wikipedia.org/wiki/Lists_of_Lionsgate_films\")\n",
    "all_links = links.get_movie_links()"
   ]
  },
  {
   "cell_type": "markdown",
   "id": "0d6011fc",
   "metadata": {},
   "source": [
    "### Get movie info\n",
    "- Get each movie information and store it into a dictionary\n",
    "- Remove tags"
   ]
  },
  {
   "cell_type": "code",
   "execution_count": 376,
   "id": "72273bc7",
   "metadata": {},
   "outputs": [],
   "source": [
    "class Data:\n",
    "    def __init__(self, urls):\n",
    "        self.urls = urls\n",
    "        self.base_path = \"https://en.wikipedia.org/\"\n",
    "        \n",
    "    def remove_tags(self, content):\n",
    "        for tag1, tag2 in zip(content.find_all('sup', attrs={'class':'reference'}), content.find_all('span')):\n",
    "            tag1.decompose()\n",
    "            tag2.decompose()\n",
    "        \n",
    "    def get_text(self, val):\n",
    "        li = val.find_all('li')\n",
    "        if li:\n",
    "            val_context = [i.get_text(' ', strip=True).replace(\"\\xa0\", ' ') for i in li]\n",
    "            return val_context\n",
    "        elif val.find('br'):\n",
    "            val_context = [text for text in val.stripped_strings]\n",
    "            return val_context\n",
    "        else:\n",
    "            val_context = val.get_text(' ', strip=True).replace('\\xa0', ' ')\n",
    "            return val_context\n",
    "        \n",
    "    def get_data(self): \n",
    "        movie_list = {'movie_info':[]}\n",
    "        \n",
    "        for url in self.urls:\n",
    "            req = requests.get(self.base_path + url)\n",
    "            content = bs(req.content)\n",
    "            \n",
    "            self.remove_tags(content)\n",
    "            \n",
    "            data = dict()\n",
    "            keys = content.select('table.infobox.vevent tbody tr th')\n",
    "            for index, key in enumerate(keys):\n",
    "                if index == 0:\n",
    "                    data['Title'] = key.get_text()\n",
    "                else:\n",
    "                    val = key.next_sibling\n",
    "                    if val != None:\n",
    "                        val_context = self.get_text(val)\n",
    "                        data[key.get_text(\" \", strip=True)] = val_context\n",
    "                        \n",
    "            movie_list['movie_info'].append(data)\n",
    "        return movie_list"
   ]
  },
  {
   "cell_type": "code",
   "execution_count": 751,
   "id": "3b1fea0b",
   "metadata": {},
   "outputs": [],
   "source": [
    "data = Data(all_links)\n",
    "movie_data = data.get_data()"
   ]
  },
  {
   "cell_type": "markdown",
   "id": "d01d87a5",
   "metadata": {},
   "source": [
    "### Clean data"
   ]
  },
  {
   "cell_type": "markdown",
   "id": "c14b2e5b",
   "metadata": {},
   "source": [
    "- Clear references [0], [2]\n",
    "- Convert running time into an integer\n",
    "- Convert datetime into python datetime object\n",
    "- Split up long strings into a list\n",
    "- Convert money into numbers"
   ]
  },
  {
   "cell_type": "code",
   "execution_count": 752,
   "id": "fa7e32f9",
   "metadata": {},
   "outputs": [],
   "source": [
    "class Clean:\n",
    "    def __init__(self, movie_info):\n",
    "        self.movie_info = movie_info\n",
    "        \n",
    "    def convert_duration(self):\n",
    "        duration = Duration(self.movie_info)\n",
    "        return duration.get_duration()\n",
    "                    \n",
    "                    \n",
    "    def convert_money(self):\n",
    "        money = Money(self.movie_info, ['Budget', 'Box office'])\n",
    "        return money.get_money()   \n",
    "                    \n",
    "    \n",
    "    def convert_datetime(self):\n",
    "        date = Date(self.movie_info)\n",
    "        return date.get_date()   "
   ]
  },
  {
   "cell_type": "code",
   "execution_count": 753,
   "id": "86d32579",
   "metadata": {},
   "outputs": [],
   "source": [
    "class Duration(Clean):\n",
    "    def __init__(self, movie_info):\n",
    "        super().__init__(movie_info)\n",
    "        \n",
    "    def get_duration(self):\n",
    "        for index, item in enumerate(self.movie_info['movie_info']):\n",
    "            try:\n",
    "                if isinstance(item['Running time'], str):\n",
    "                    item['Running time'] = int(item['Running time'].split(' ')[0])\n",
    "\n",
    "                elif isinstance(item['Running time'], list):\n",
    "                    avg_duration = int(np.mean([int(dur.split(' ')[0]) for dur in item['Running time']]))\n",
    "                    item['Running time'] = avg_duration\n",
    "                else:\n",
    "                    continue\n",
    "            except:\n",
    "                item['Running time'] = None"
   ]
  },
  {
   "cell_type": "code",
   "execution_count": 754,
   "id": "61c27c47",
   "metadata": {},
   "outputs": [],
   "source": [
    "class Money(Clean):    \n",
    "    million = r'million\\Z'\n",
    "    currency = r'^\\$'\n",
    "    num = r'[-+]?\\d*\\.\\d+|\\d+'\n",
    "    \n",
    "    def __init__(self, movie_info, keys):\n",
    "        super().__init__(movie_info)\n",
    "        self.keys = keys\n",
    "        \n",
    "        \n",
    "    def get_val(self, money):\n",
    "        try:\n",
    "            condition1 = re.search(Money.million, money)\n",
    "            condition2 = re.search(Money.currency, money)\n",
    "\n",
    "            if condition1:\n",
    "                num = re.search(Money.num, money).group()\n",
    "                result = round(int(num) * 1000000)\n",
    "                return result\n",
    "\n",
    "            elif condition2:\n",
    "                num = re.search(Money.num, money.replace(',','')).group()\n",
    "                result = round(int(num))\n",
    "                return result\n",
    "\n",
    "            elif (not condition1) & (not condition2) & (not condition3):          \n",
    "                return None\n",
    "        except:\n",
    "            pass\n",
    "\n",
    "    \n",
    "    def get_money(self):\n",
    "        for key in self.keys:      \n",
    "            for index, movie in enumerate(self.movie_info['movie_info']):\n",
    "                try:\n",
    "                    if (type(movie[key]) == int) | (movie[key] == None):\n",
    "                        continue\n",
    "                    else:\n",
    "                        final = self.get_val(movie[key])\n",
    "                        movie[key] = final\n",
    "                except:\n",
    "                    movie[key] = None\n"
   ]
  },
  {
   "cell_type": "code",
   "execution_count": 755,
   "id": "386adaa3",
   "metadata": {},
   "outputs": [],
   "source": [
    "class Date(Clean):\n",
    "    date_formats = ['%B %d, %Y', '%d %B %Y']\n",
    "    \n",
    "    def __init__(self, movie_info):\n",
    "        super().__init__(movie_info)\n",
    "        \n",
    "    def date_clean(self, date):\n",
    "        try:\n",
    "            fixed_date = date.split('(')[0].strip()\n",
    "            return fixed_date\n",
    "        except:\n",
    "            pass\n",
    "        \n",
    "    def get_string(self, date):\n",
    "        if isinstance(date, list):\n",
    "            date_str = self.date_clean(date[0])\n",
    "            return date_str\n",
    "\n",
    "        else:\n",
    "            date_str = self.date_clean(date)\n",
    "            return date_str\n",
    "    \n",
    "    \n",
    "    def convert_date(self, date):\n",
    "        try:\n",
    "            converted_date = datetime.strptime(self.get_string(date), Date.date_formats[0])\n",
    "            return converted_date\n",
    "        except:\n",
    "            try:\n",
    "                converted_date = datetime.strptime(self.get_string(date), Date.date_formats[1])\n",
    "                return converted_date\n",
    "            except:\n",
    "                return None\n",
    "            \n",
    "                \n",
    "    def get_date(self):\n",
    "        for movie in self.movie_info['movie_info']:\n",
    "            try:\n",
    "                if type(movie['Release date']) != datetime:\n",
    "                    final_date = self.convert_date(movie.get('Release date'))\n",
    "                    movie['Release date'] = final_date\n",
    "                else:\n",
    "                    pass\n",
    "            except:\n",
    "                movie['Release date'] = None"
   ]
  },
  {
   "cell_type": "code",
   "execution_count": 763,
   "id": "8acfc8fe",
   "metadata": {
    "scrolled": true
   },
   "outputs": [],
   "source": [
    "clean = Clean(movie_data)\n",
    "clean.convert_duration()\n",
    "clean.convert_money()\n",
    "clean.convert_datetime()"
   ]
  },
  {
   "cell_type": "markdown",
   "id": "0a869d4a",
   "metadata": {},
   "source": [
    "### Write and load json file"
   ]
  },
  {
   "cell_type": "code",
   "execution_count": 765,
   "id": "a3b91158",
   "metadata": {},
   "outputs": [],
   "source": [
    "class Json:\n",
    "\n",
    "    @staticmethod\n",
    "    def write_json(movie_info):        \n",
    "        with open('lionsgate-movie.json', 'w', encoding='utf-8') as f:\n",
    "            json.dump(movie_info, f, ensure_ascii=False, indent=4)\n",
    "            \n",
    "    @staticmethod\n",
    "    def load_data(file):\n",
    "        with open(file, encoding='utf-8') as f:\n",
    "            return json.load(f)"
   ]
  },
  {
   "cell_type": "code",
   "execution_count": 766,
   "id": "9fcbd345",
   "metadata": {},
   "outputs": [
    {
     "ename": "TypeError",
     "evalue": "Object of type datetime is not JSON serializable",
     "output_type": "error",
     "traceback": [
      "\u001b[1;31m---------------------------------------------------------------------------\u001b[0m",
      "\u001b[1;31mTypeError\u001b[0m                                 Traceback (most recent call last)",
      "\u001b[1;32m~\\AppData\\Local\\Temp/ipykernel_13728/3448592307.py\u001b[0m in \u001b[0;36m<module>\u001b[1;34m\u001b[0m\n\u001b[1;32m----> 1\u001b[1;33m \u001b[0mJson\u001b[0m\u001b[1;33m.\u001b[0m\u001b[0mwrite_json\u001b[0m\u001b[1;33m(\u001b[0m\u001b[0mmovie_data\u001b[0m\u001b[1;33m)\u001b[0m\u001b[1;33m\u001b[0m\u001b[1;33m\u001b[0m\u001b[0m\n\u001b[0m",
      "\u001b[1;32m~\\AppData\\Local\\Temp/ipykernel_13728/892950423.py\u001b[0m in \u001b[0;36mwrite_json\u001b[1;34m(movie_info)\u001b[0m\n\u001b[0;32m      4\u001b[0m     \u001b[1;32mdef\u001b[0m \u001b[0mwrite_json\u001b[0m\u001b[1;33m(\u001b[0m\u001b[0mmovie_info\u001b[0m\u001b[1;33m)\u001b[0m\u001b[1;33m:\u001b[0m\u001b[1;33m\u001b[0m\u001b[1;33m\u001b[0m\u001b[0m\n\u001b[0;32m      5\u001b[0m         \u001b[1;32mwith\u001b[0m \u001b[0mopen\u001b[0m\u001b[1;33m(\u001b[0m\u001b[1;34m'lionsgate-movie.json'\u001b[0m\u001b[1;33m,\u001b[0m \u001b[1;34m'w'\u001b[0m\u001b[1;33m,\u001b[0m \u001b[0mencoding\u001b[0m\u001b[1;33m=\u001b[0m\u001b[1;34m'utf-8'\u001b[0m\u001b[1;33m)\u001b[0m \u001b[1;32mas\u001b[0m \u001b[0mf\u001b[0m\u001b[1;33m:\u001b[0m\u001b[1;33m\u001b[0m\u001b[1;33m\u001b[0m\u001b[0m\n\u001b[1;32m----> 6\u001b[1;33m             \u001b[0mjson\u001b[0m\u001b[1;33m.\u001b[0m\u001b[0mdump\u001b[0m\u001b[1;33m(\u001b[0m\u001b[0mmovie_info\u001b[0m\u001b[1;33m,\u001b[0m \u001b[0mf\u001b[0m\u001b[1;33m,\u001b[0m \u001b[0mensure_ascii\u001b[0m\u001b[1;33m=\u001b[0m\u001b[1;32mFalse\u001b[0m\u001b[1;33m,\u001b[0m \u001b[0mindent\u001b[0m\u001b[1;33m=\u001b[0m\u001b[1;36m4\u001b[0m\u001b[1;33m)\u001b[0m\u001b[1;33m\u001b[0m\u001b[1;33m\u001b[0m\u001b[0m\n\u001b[0m\u001b[0;32m      7\u001b[0m \u001b[1;33m\u001b[0m\u001b[0m\n\u001b[0;32m      8\u001b[0m     \u001b[1;33m@\u001b[0m\u001b[0mstaticmethod\u001b[0m\u001b[1;33m\u001b[0m\u001b[1;33m\u001b[0m\u001b[0m\n",
      "\u001b[1;32m~\\anaconda3\\lib\\json\\__init__.py\u001b[0m in \u001b[0;36mdump\u001b[1;34m(obj, fp, skipkeys, ensure_ascii, check_circular, allow_nan, cls, indent, separators, default, sort_keys, **kw)\u001b[0m\n\u001b[0;32m    177\u001b[0m     \u001b[1;31m# could accelerate with writelines in some versions of Python, at\u001b[0m\u001b[1;33m\u001b[0m\u001b[1;33m\u001b[0m\u001b[0m\n\u001b[0;32m    178\u001b[0m     \u001b[1;31m# a debuggability cost\u001b[0m\u001b[1;33m\u001b[0m\u001b[1;33m\u001b[0m\u001b[0m\n\u001b[1;32m--> 179\u001b[1;33m     \u001b[1;32mfor\u001b[0m \u001b[0mchunk\u001b[0m \u001b[1;32min\u001b[0m \u001b[0miterable\u001b[0m\u001b[1;33m:\u001b[0m\u001b[1;33m\u001b[0m\u001b[1;33m\u001b[0m\u001b[0m\n\u001b[0m\u001b[0;32m    180\u001b[0m         \u001b[0mfp\u001b[0m\u001b[1;33m.\u001b[0m\u001b[0mwrite\u001b[0m\u001b[1;33m(\u001b[0m\u001b[0mchunk\u001b[0m\u001b[1;33m)\u001b[0m\u001b[1;33m\u001b[0m\u001b[1;33m\u001b[0m\u001b[0m\n\u001b[0;32m    181\u001b[0m \u001b[1;33m\u001b[0m\u001b[0m\n",
      "\u001b[1;32m~\\anaconda3\\lib\\json\\encoder.py\u001b[0m in \u001b[0;36m_iterencode\u001b[1;34m(o, _current_indent_level)\u001b[0m\n\u001b[0;32m    429\u001b[0m             \u001b[1;32myield\u001b[0m \u001b[1;32mfrom\u001b[0m \u001b[0m_iterencode_list\u001b[0m\u001b[1;33m(\u001b[0m\u001b[0mo\u001b[0m\u001b[1;33m,\u001b[0m \u001b[0m_current_indent_level\u001b[0m\u001b[1;33m)\u001b[0m\u001b[1;33m\u001b[0m\u001b[1;33m\u001b[0m\u001b[0m\n\u001b[0;32m    430\u001b[0m         \u001b[1;32melif\u001b[0m \u001b[0misinstance\u001b[0m\u001b[1;33m(\u001b[0m\u001b[0mo\u001b[0m\u001b[1;33m,\u001b[0m \u001b[0mdict\u001b[0m\u001b[1;33m)\u001b[0m\u001b[1;33m:\u001b[0m\u001b[1;33m\u001b[0m\u001b[1;33m\u001b[0m\u001b[0m\n\u001b[1;32m--> 431\u001b[1;33m             \u001b[1;32myield\u001b[0m \u001b[1;32mfrom\u001b[0m \u001b[0m_iterencode_dict\u001b[0m\u001b[1;33m(\u001b[0m\u001b[0mo\u001b[0m\u001b[1;33m,\u001b[0m \u001b[0m_current_indent_level\u001b[0m\u001b[1;33m)\u001b[0m\u001b[1;33m\u001b[0m\u001b[1;33m\u001b[0m\u001b[0m\n\u001b[0m\u001b[0;32m    432\u001b[0m         \u001b[1;32melse\u001b[0m\u001b[1;33m:\u001b[0m\u001b[1;33m\u001b[0m\u001b[1;33m\u001b[0m\u001b[0m\n\u001b[0;32m    433\u001b[0m             \u001b[1;32mif\u001b[0m \u001b[0mmarkers\u001b[0m \u001b[1;32mis\u001b[0m \u001b[1;32mnot\u001b[0m \u001b[1;32mNone\u001b[0m\u001b[1;33m:\u001b[0m\u001b[1;33m\u001b[0m\u001b[1;33m\u001b[0m\u001b[0m\n",
      "\u001b[1;32m~\\anaconda3\\lib\\json\\encoder.py\u001b[0m in \u001b[0;36m_iterencode_dict\u001b[1;34m(dct, _current_indent_level)\u001b[0m\n\u001b[0;32m    403\u001b[0m                 \u001b[1;32melse\u001b[0m\u001b[1;33m:\u001b[0m\u001b[1;33m\u001b[0m\u001b[1;33m\u001b[0m\u001b[0m\n\u001b[0;32m    404\u001b[0m                     \u001b[0mchunks\u001b[0m \u001b[1;33m=\u001b[0m \u001b[0m_iterencode\u001b[0m\u001b[1;33m(\u001b[0m\u001b[0mvalue\u001b[0m\u001b[1;33m,\u001b[0m \u001b[0m_current_indent_level\u001b[0m\u001b[1;33m)\u001b[0m\u001b[1;33m\u001b[0m\u001b[1;33m\u001b[0m\u001b[0m\n\u001b[1;32m--> 405\u001b[1;33m                 \u001b[1;32myield\u001b[0m \u001b[1;32mfrom\u001b[0m \u001b[0mchunks\u001b[0m\u001b[1;33m\u001b[0m\u001b[1;33m\u001b[0m\u001b[0m\n\u001b[0m\u001b[0;32m    406\u001b[0m         \u001b[1;32mif\u001b[0m \u001b[0mnewline_indent\u001b[0m \u001b[1;32mis\u001b[0m \u001b[1;32mnot\u001b[0m \u001b[1;32mNone\u001b[0m\u001b[1;33m:\u001b[0m\u001b[1;33m\u001b[0m\u001b[1;33m\u001b[0m\u001b[0m\n\u001b[0;32m    407\u001b[0m             \u001b[0m_current_indent_level\u001b[0m \u001b[1;33m-=\u001b[0m \u001b[1;36m1\u001b[0m\u001b[1;33m\u001b[0m\u001b[1;33m\u001b[0m\u001b[0m\n",
      "\u001b[1;32m~\\anaconda3\\lib\\json\\encoder.py\u001b[0m in \u001b[0;36m_iterencode_list\u001b[1;34m(lst, _current_indent_level)\u001b[0m\n\u001b[0;32m    323\u001b[0m                 \u001b[1;32melse\u001b[0m\u001b[1;33m:\u001b[0m\u001b[1;33m\u001b[0m\u001b[1;33m\u001b[0m\u001b[0m\n\u001b[0;32m    324\u001b[0m                     \u001b[0mchunks\u001b[0m \u001b[1;33m=\u001b[0m \u001b[0m_iterencode\u001b[0m\u001b[1;33m(\u001b[0m\u001b[0mvalue\u001b[0m\u001b[1;33m,\u001b[0m \u001b[0m_current_indent_level\u001b[0m\u001b[1;33m)\u001b[0m\u001b[1;33m\u001b[0m\u001b[1;33m\u001b[0m\u001b[0m\n\u001b[1;32m--> 325\u001b[1;33m                 \u001b[1;32myield\u001b[0m \u001b[1;32mfrom\u001b[0m \u001b[0mchunks\u001b[0m\u001b[1;33m\u001b[0m\u001b[1;33m\u001b[0m\u001b[0m\n\u001b[0m\u001b[0;32m    326\u001b[0m         \u001b[1;32mif\u001b[0m \u001b[0mnewline_indent\u001b[0m \u001b[1;32mis\u001b[0m \u001b[1;32mnot\u001b[0m \u001b[1;32mNone\u001b[0m\u001b[1;33m:\u001b[0m\u001b[1;33m\u001b[0m\u001b[1;33m\u001b[0m\u001b[0m\n\u001b[0;32m    327\u001b[0m             \u001b[0m_current_indent_level\u001b[0m \u001b[1;33m-=\u001b[0m \u001b[1;36m1\u001b[0m\u001b[1;33m\u001b[0m\u001b[1;33m\u001b[0m\u001b[0m\n",
      "\u001b[1;32m~\\anaconda3\\lib\\json\\encoder.py\u001b[0m in \u001b[0;36m_iterencode_dict\u001b[1;34m(dct, _current_indent_level)\u001b[0m\n\u001b[0;32m    403\u001b[0m                 \u001b[1;32melse\u001b[0m\u001b[1;33m:\u001b[0m\u001b[1;33m\u001b[0m\u001b[1;33m\u001b[0m\u001b[0m\n\u001b[0;32m    404\u001b[0m                     \u001b[0mchunks\u001b[0m \u001b[1;33m=\u001b[0m \u001b[0m_iterencode\u001b[0m\u001b[1;33m(\u001b[0m\u001b[0mvalue\u001b[0m\u001b[1;33m,\u001b[0m \u001b[0m_current_indent_level\u001b[0m\u001b[1;33m)\u001b[0m\u001b[1;33m\u001b[0m\u001b[1;33m\u001b[0m\u001b[0m\n\u001b[1;32m--> 405\u001b[1;33m                 \u001b[1;32myield\u001b[0m \u001b[1;32mfrom\u001b[0m \u001b[0mchunks\u001b[0m\u001b[1;33m\u001b[0m\u001b[1;33m\u001b[0m\u001b[0m\n\u001b[0m\u001b[0;32m    406\u001b[0m         \u001b[1;32mif\u001b[0m \u001b[0mnewline_indent\u001b[0m \u001b[1;32mis\u001b[0m \u001b[1;32mnot\u001b[0m \u001b[1;32mNone\u001b[0m\u001b[1;33m:\u001b[0m\u001b[1;33m\u001b[0m\u001b[1;33m\u001b[0m\u001b[0m\n\u001b[0;32m    407\u001b[0m             \u001b[0m_current_indent_level\u001b[0m \u001b[1;33m-=\u001b[0m \u001b[1;36m1\u001b[0m\u001b[1;33m\u001b[0m\u001b[1;33m\u001b[0m\u001b[0m\n",
      "\u001b[1;32m~\\anaconda3\\lib\\json\\encoder.py\u001b[0m in \u001b[0;36m_iterencode\u001b[1;34m(o, _current_indent_level)\u001b[0m\n\u001b[0;32m    436\u001b[0m                     \u001b[1;32mraise\u001b[0m \u001b[0mValueError\u001b[0m\u001b[1;33m(\u001b[0m\u001b[1;34m\"Circular reference detected\"\u001b[0m\u001b[1;33m)\u001b[0m\u001b[1;33m\u001b[0m\u001b[1;33m\u001b[0m\u001b[0m\n\u001b[0;32m    437\u001b[0m                 \u001b[0mmarkers\u001b[0m\u001b[1;33m[\u001b[0m\u001b[0mmarkerid\u001b[0m\u001b[1;33m]\u001b[0m \u001b[1;33m=\u001b[0m \u001b[0mo\u001b[0m\u001b[1;33m\u001b[0m\u001b[1;33m\u001b[0m\u001b[0m\n\u001b[1;32m--> 438\u001b[1;33m             \u001b[0mo\u001b[0m \u001b[1;33m=\u001b[0m \u001b[0m_default\u001b[0m\u001b[1;33m(\u001b[0m\u001b[0mo\u001b[0m\u001b[1;33m)\u001b[0m\u001b[1;33m\u001b[0m\u001b[1;33m\u001b[0m\u001b[0m\n\u001b[0m\u001b[0;32m    439\u001b[0m             \u001b[1;32myield\u001b[0m \u001b[1;32mfrom\u001b[0m \u001b[0m_iterencode\u001b[0m\u001b[1;33m(\u001b[0m\u001b[0mo\u001b[0m\u001b[1;33m,\u001b[0m \u001b[0m_current_indent_level\u001b[0m\u001b[1;33m)\u001b[0m\u001b[1;33m\u001b[0m\u001b[1;33m\u001b[0m\u001b[0m\n\u001b[0;32m    440\u001b[0m             \u001b[1;32mif\u001b[0m \u001b[0mmarkers\u001b[0m \u001b[1;32mis\u001b[0m \u001b[1;32mnot\u001b[0m \u001b[1;32mNone\u001b[0m\u001b[1;33m:\u001b[0m\u001b[1;33m\u001b[0m\u001b[1;33m\u001b[0m\u001b[0m\n",
      "\u001b[1;32m~\\anaconda3\\lib\\json\\encoder.py\u001b[0m in \u001b[0;36mdefault\u001b[1;34m(self, o)\u001b[0m\n\u001b[0;32m    177\u001b[0m \u001b[1;33m\u001b[0m\u001b[0m\n\u001b[0;32m    178\u001b[0m         \"\"\"\n\u001b[1;32m--> 179\u001b[1;33m         raise TypeError(f'Object of type {o.__class__.__name__} '\n\u001b[0m\u001b[0;32m    180\u001b[0m                         f'is not JSON serializable')\n\u001b[0;32m    181\u001b[0m \u001b[1;33m\u001b[0m\u001b[0m\n",
      "\u001b[1;31mTypeError\u001b[0m: Object of type datetime is not JSON serializable"
     ]
    }
   ],
   "source": [
    "Json.write_json(movie_data)"
   ]
  },
  {
   "cell_type": "code",
   "execution_count": null,
   "id": "e21eb38f",
   "metadata": {},
   "outputs": [],
   "source": [
    "movie_json = Json.load_data('lionsgate-movie.json')"
   ]
  },
  {
   "cell_type": "code",
   "execution_count": null,
   "id": "3ce88190",
   "metadata": {},
   "outputs": [],
   "source": []
  },
  {
   "cell_type": "code",
   "execution_count": 669,
   "id": "95244e28",
   "metadata": {},
   "outputs": [],
   "source": [
    "date = 'February 01, 2003'\n",
    "fmt = '%B %d, %Y'"
   ]
  },
  {
   "cell_type": "code",
   "execution_count": 747,
   "id": "4f926069",
   "metadata": {},
   "outputs": [
    {
     "name": "stdout",
     "output_type": "stream",
     "text": [
      "True\n"
     ]
    }
   ],
   "source": [
    "print(type(datetime.strptime(date, fmt)) == datetime)"
   ]
  }
 ],
 "metadata": {
  "kernelspec": {
   "display_name": "Python 3 (ipykernel)",
   "language": "python",
   "name": "python3"
  },
  "language_info": {
   "codemirror_mode": {
    "name": "ipython",
    "version": 3
   },
   "file_extension": ".py",
   "mimetype": "text/x-python",
   "name": "python",
   "nbconvert_exporter": "python",
   "pygments_lexer": "ipython3",
   "version": "3.9.7"
  }
 },
 "nbformat": 4,
 "nbformat_minor": 5
}
